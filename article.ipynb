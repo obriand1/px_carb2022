{
 "cells": [
  {
   "cell_type": "raw",
   "id": "b8a6f041-19fd-4012-aa48-e4930c5a7ac4",
   "metadata": {},
   "source": []
  },
  {
   "cell_type": "code",
   "execution_count": 1,
   "id": "1c918f1a-d537-4d2b-8404-d4b80f3e54ea",
   "metadata": {},
   "outputs": [],
   "source": [
    "# T\n",
    "import pandas as pd\n",
    "import requests\n",
    "from zipfile import ZipFile\n",
    "from io import BytesIO, \n"
   ]
  },
  {
   "cell_type": "raw",
   "id": "9466632e-c08a-45a7-9d42-a7bf3ad2e88c",
   "metadata": {},
   "source": [
    "Téléchargement Historique des prix Insee\n",
    "Les fichiers sont fournis sous forme d'archive zippée et sont téléchargeables aux adresses suivantes :\n"
   ]
  },
  {
   "cell_type": "code",
   "execution_count": 2,
   "id": "7634877b-f024-4dc1-85f5-f31a8394d821",
   "metadata": {},
   "outputs": [],
   "source": [
    "url de l historique des prix du gazole : \"https://www.insee.fr/fr/statistiques/serie/telecharger/csv/000442588?ordre=antechronologique&transposition=donneescolonne&periodeDebut=1&anneeDebut=2019&periodeFin=12&anneeFin=2022&revision=sansrevisions\"\n",
    "url de l historique des prix sp95_e10 : \"https://www.insee.fr/fr/statistiques/serie/telecharger/csv/010596132?ordre=antechronologique&transposition=donneescolonne&periodeDebut=1&anneeDebut=2019&periodeFin=12&anneeFin=2022&revision=sansrevisions"
   ]
  },
  {
   "cell_type": "raw",
   "id": "0bccade1-c891-490d-96d7-7c8636f04094",
   "metadata": {},
   "source": [
    "Nous remarquons en observant les url qu'elles sont de la forme \"https://www.insee.fr/fr/statistiques/serie/telecharger/csv/\"\n",
    "+code de la série+\n",
    "\"?ordre=antechronologique&transposition=donneescolonne&periodeDebut=1&anneeDebut=2019&periodeFin=12&anneeFin=2022&revision=sansrevisions\"\n",
    "où les codes des séries sont : 000442588 pour le gazole et 010596132 pour le SP95-E10.\n"
   ]
  },
  {
   "cell_type": "raw",
   "id": "2cd1dc36-0531-446d-b7e2-9430988f48c5",
   "metadata": {},
   "source": [
    "L'archive zip contient :\n",
    "- un fichier descriptif \"caractéristiques.csv\" qui précise la nature des données obtenues : \n",
    "\"idBank\";\"Dernière mise à jour\";\"Zone géographique\";\"Correction\";\"Regroupement de produits\";\"Périodicité\";\"Série arrêtée\";\"Indicateur\";\"Nature\";\"Puissance\";\"Unité\"\n",
    "\"010596132\";\"13/01/2023 08:45\";\"France métropolitaine\";\"Non corrigé\";\"Supercarburant sans plomb, indice d'octane 95-E10\";\"Mensuelle\";\"non\";\"Indice des prix à la consommation (IPC)\";\"Prix moyen\";\"0\";\"euros\"\n",
    "\"\"\n",
    "\"Codes\"\n",
    "\"\"\n",
    "\"Q\";\"Couvert par le secret statistique\"\n",
    "\"E\";\"Estimation\"\n",
    "\"F\";\"Prévision\"\n",
    "\"P\";\"Provisoire\"\n",
    "\"SD\";\"Valeur semi-définitive\"\n",
    "\"R\";\"Révision\"\n",
    "\"A\";\"Valeur normale\"\n",
    "\"N\";\"Valeur non significative\"\n",
    "\"O\";\"Valeur manquante\"\n",
    "\"U\";\"Valeur atypique\"\n",
    "\n",
    "- et un fichier de données \"valeurs_mensuelles.csv\". C'est ce fichier que nous qui contient les valeurs qui nous intéressent. "
   ]
  },
  {
   "cell_type": "code",
   "execution_count": null,
   "id": "5eb4a934-d6dd-4c99-a192-94e1a05af99e",
   "metadata": {},
   "outputs": [],
   "source": []
  },
  {
   "cell_type": "code",
   "execution_count": null,
   "id": "bc2186f0-273c-466a-9693-f25c4123a0c2",
   "metadata": {},
   "outputs": [],
   "source": []
  },
  {
   "cell_type": "code",
   "execution_count": null,
   "id": "e47055ab-d898-4d13-ad0d-7391723e86eb",
   "metadata": {},
   "outputs": [],
   "source": [
    "historique_prix_gazole_insee="
   ]
  }
 ],
 "metadata": {
  "kernelspec": {
   "display_name": "Python 3 (ipykernel)",
   "language": "python",
   "name": "python3"
  },
  "language_info": {
   "codemirror_mode": {
    "name": "ipython",
    "version": 3
   },
   "file_extension": ".py",
   "mimetype": "text/x-python",
   "name": "python",
   "nbconvert_exporter": "python",
   "pygments_lexer": "ipython3",
   "version": "3.11.1+"
  }
 },
 "nbformat": 4,
 "nbformat_minor": 5
}
